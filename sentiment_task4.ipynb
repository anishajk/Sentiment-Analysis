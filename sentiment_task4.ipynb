{
  "cells": [
    {
      "cell_type": "markdown",
      "metadata": {
        "id": "X_4ZMUrrTGvQ"
      },
      "source": [
        "Homework 4: Sentiment Analysis - Task 4\n",
        "----"
      ]
    },
    {
      "cell_type": "markdown",
      "metadata": {
        "id": "gqXGHUIvTGvT"
      },
      "source": [
        "Names & Sections\n",
        "----\n",
        "Names: Anisha Kushwaha 6120\n",
        "Sarthak Kagliwal 6120 (Write these in every notebook you submit. For each partner, write down whether you are a 4120 or a 6120 student.)"
      ]
    },
    {
      "cell_type": "markdown",
      "metadata": {
        "id": "QYuQ6EZOTGvU"
      },
      "source": [
        "Task 4: Neural Networks (20 points)\n",
        "----\n",
        "\n",
        "Next, we'll train a feedforward neural net to work with this data. You'll train one neural net which takes the same input as your Logistic Regression model - a sparse vector representing documents as bags of words."
      ]
    },
    {
      "cell_type": "code",
      "execution_count": 1,
      "metadata": {
        "colab": {
          "base_uri": "https://localhost:8080/"
        },
        "id": "cbCZeJwHTGvU",
        "outputId": "de947cd2-4e7a-4334-aa75-4b38bcbbefd6"
      },
      "outputs": [
        {
          "output_type": "stream",
          "name": "stderr",
          "text": [
            "[nltk_data] Downloading package punkt to /root/nltk_data...\n",
            "[nltk_data]   Package punkt is already up-to-date!\n"
          ]
        }
      ],
      "source": [
        "import sentiment_utils as sutils\n",
        "import numpy as np\n",
        "\n",
        "from keras.models import Sequential\n",
        "from keras.layers import Dense\n",
        "\n",
        "# you can experiment with having some Dropout layers if you'd like to\n",
        "# this is not required\n",
        "from keras.layers import Dropout\n",
        "# from keras.metrics import Precision, Recall\n",
        "\n",
        "# if you want to use this again\n",
        "from sklearn.feature_extraction.text import CountVectorizer\n",
        "from sklearn.model_selection import train_test_split\n",
        "from sklearn.metrics import f1_score\n",
        "import string\n",
        "\n"
      ]
    },
    {
      "cell_type": "code",
      "execution_count": 2,
      "metadata": {
        "id": "8qqYV6QGTGvV"
      },
      "outputs": [],
      "source": [
        "# define constants for the files we are using\n",
        "# TRAIN_FILE = \"movie_reviews_train.txt\"\n",
        "# DEV_FILE = \"movie_reviews_dev.txt\"\n",
        "\n",
        "TRAIN_FILE = \"own_train.txt\"\n",
        "DEV_FILE = \"own_dev.txt\"\n",
        "\n",
        "# load in your data and make sure you understand the format\n",
        "# Do not print out too much so as to impede readability of your notebook\n",
        "train_tups = sutils.generate_tuples_from_file(TRAIN_FILE)\n",
        "dev_tups = sutils.generate_tuples_from_file(DEV_FILE)\n",
        "\n",
        "\n",
        "\n",
        "# you may use either your sparse vectors or sklearn's CountVectorizer's sparse vectors\n",
        "# you will experiment with multinomial and binarized representations later\n",
        "documents = [' '.join(document) for document in train_tups[0]]\n",
        "mul_vec = CountVectorizer()\n",
        "train_mul_bow_sk = mul_vec.fit_transform(documents).toarray()\n",
        "\n",
        "bin_vec = CountVectorizer(binary=True)\n",
        "train_bin_bow_sk = bin_vec.fit_transform(documents).toarray()"
      ]
    },
    {
      "cell_type": "code",
      "source": [
        "Y_train = np.array(train_tups[1])\n",
        "Y_dev = np.array(dev_tups[1])"
      ],
      "metadata": {
        "id": "HBPR4LnoeZa3"
      },
      "execution_count": 3,
      "outputs": []
    },
    {
      "cell_type": "code",
      "source": [
        "dev_mul_vec = CountVectorizer(vocabulary=mul_vec.vocabulary_)\n",
        "dev_mul_bow_sk = dev_mul_vec.fit_transform([' '.join(document) for document in dev_tups[0]]).toarray()\n",
        "dev_bin_vec = CountVectorizer(vocabulary=bin_vec.vocabulary_)\n",
        "dev_bin_bow_sk = dev_bin_vec.fit_transform([' '.join(document) for document in dev_tups[0]]).toarray()\n"
      ],
      "metadata": {
        "id": "IrUkUvQFZATC"
      },
      "execution_count": 4,
      "outputs": []
    },
    {
      "cell_type": "code",
      "execution_count": 5,
      "metadata": {
        "colab": {
          "base_uri": "https://localhost:8080/"
        },
        "id": "cS9ByR25TGvV",
        "outputId": "a247699d-1064-49c6-ab10-9a53823a013b"
      },
      "outputs": [
        {
          "output_type": "stream",
          "name": "stdout",
          "text": [
            "Model: \"sequential\"\n",
            "_________________________________________________________________\n",
            " Layer (type)                Output Shape              Param #   \n",
            "=================================================================\n",
            " dense (Dense)               (None, 256)               5784832   \n",
            "                                                                 \n",
            " dense_1 (Dense)             (None, 64)                16448     \n",
            "                                                                 \n",
            " dense_2 (Dense)             (None, 1)                 65        \n",
            "                                                                 \n",
            "=================================================================\n",
            "Total params: 5801345 (22.13 MB)\n",
            "Trainable params: 5801345 (22.13 MB)\n",
            "Non-trainable params: 0 (0.00 Byte)\n",
            "_________________________________________________________________\n"
          ]
        }
      ],
      "source": [
        "# Create a feedforward neural network model\n",
        "# that takes a sparse BoW representation of the data as input\n",
        "# and makes a binary classification of positive/negative sentiment as output\n",
        "# you may use any number of hidden layers >= 1 and any number of units in each hidden layer (we recommend between 50-200)\n",
        "# you may use any activation function on the hidden layers\n",
        "# you should use a sigmoid activation function on the output layer\n",
        "# you should use binary cross-entropy as your loss function\n",
        "# sgd is an appropriate optimizer for this task\n",
        "# you should report accuracy as your metric\n",
        "# you may add Dropout layers if you'd like to\n",
        "\n",
        "# create/compile your model in this cell\n",
        "\n",
        "model = Sequential()\n",
        "input_shape = (train_bin_bow_sk.shape[1],)\n",
        "model.add(Dense(256, activation='relu',input_shape=input_shape))\n",
        "# model.add(Dense(128, activation='relu'))\n",
        "model.add(Dense(64, activation='relu'))\n",
        "# model.add(Dense(32, activation='relu'))\n",
        "\n",
        "\n",
        "# put in an output layer\n",
        "model.add(Dense(1, activation='sigmoid'))\n",
        "\n",
        "model.summary()\n",
        "# call compile here\n",
        "model.compile(optimizer='sgd', loss='binary_crossentropy', metrics=['accuracy'])\n"
      ]
    },
    {
      "cell_type": "markdown",
      "metadata": {
        "id": "jBeg2dC9TGvW"
      },
      "source": [
        "How many trainable parameters does your model have? 5801345"
      ]
    },
    {
      "cell_type": "code",
      "execution_count": 6,
      "metadata": {
        "id": "0gHJT7PHTGvW"
      },
      "outputs": [],
      "source": [
        "# train your model\n",
        "# Felix's computer takes about 2 sec for 3 epochs\n",
        "# reports an accuracy of 0.78 at that point using the sgd optimizer\n",
        "def train_model(tr_data_per, train_bow, tr_model):\n",
        "  tr_data_len = int(len(train_bow[0]) * tr_data_per)\n",
        "  random_indices = np.random.choice(len(train_bow[0]), tr_data_len, replace=False)\n",
        "  X_tr = train_bow[0][random_indices]\n",
        "  Y_tr = train_bow[1][random_indices]\n",
        "  tr_model.fit(X_tr, Y_tr, epochs=5, batch_size=64, verbose=1)\n",
        "  return tr_model\n",
        "\n",
        "# Failed to find data adapter that can handle input: <class 'numpy.ndarray'>, (<class 'list'> containing values of types {\"<class 'int'>\"})\n",
        "# indicates you should change a list into a numpy array\n",
        "\n"
      ]
    },
    {
      "cell_type": "code",
      "execution_count": 7,
      "metadata": {
        "id": "87AAa4-jTGvW"
      },
      "outputs": [],
      "source": [
        "# make a prediction on the dev set\n",
        "# then make a classification decision based on that prediction\n",
        "# predicting all examples takes < 1 sec on Felix's computer\n",
        "def model_pred(trained_model, dev_data, verbose):\n",
        "  y_pred = trained_model.predict(dev_data[0])\n",
        "  nn_preds = [1 if x>=0.5 else 0 for x in y_pred]\n",
        "  # print(\"nn_preds\", y_pred)\n",
        "  NN_metrics =  sutils.get_prfa(dev_data[1], nn_preds, verbose)\n",
        "  print(f'\\nF1-score is : {NN_metrics[2]:.2f}\\n')\n",
        "  return NN_metrics\n",
        "\n"
      ]
    },
    {
      "cell_type": "code",
      "execution_count": 8,
      "metadata": {
        "id": "SQqbzX93TGvX"
      },
      "outputs": [],
      "source": [
        "# use the model.evaluate function to report the loss and accuracy on the dev set\n",
        "def acc_loss(dev_data):\n",
        "  loss, accuracy = model.evaluate(dev_data[0], dev_data[1])\n",
        "  print(f'\\nLoss is: {loss:.2f}\\nAccuracy is: {accuracy:.2f}\\n')"
      ]
    },
    {
      "cell_type": "code",
      "source": [
        "def train_on_data(i, train_data, dev_data, verbose):\n",
        "  nn_model = train_model(i, train_data, model)\n",
        "  pred_metric = model_pred(nn_model, dev_data, verbose)\n",
        "  acc_loss(dev_data)\n",
        "  return pred_metric\n",
        "\n",
        "print(\"Using Binarized features:\")\n",
        "NN_Bin_metrics = train_on_data(1.0, [train_bin_bow_sk, Y_train],[dev_bin_bow_sk,Y_dev], True)\n",
        "\n",
        "print(\"Using Multinomial features:\")\n",
        "NN_Mul_metrics = train_on_data(1.0, [train_mul_bow_sk, Y_train],[dev_mul_bow_sk,Y_dev], True)"
      ],
      "metadata": {
        "colab": {
          "base_uri": "https://localhost:8080/"
        },
        "id": "SNYAXdpotMSB",
        "outputId": "d600a519-6557-42c8-904c-1c5a84a0cca2"
      },
      "execution_count": 9,
      "outputs": [
        {
          "output_type": "stream",
          "name": "stdout",
          "text": [
            "Using Binarized features:\n",
            "Epoch 1/5\n",
            "25/25 [==============================] - 5s 108ms/step - loss: 0.6934 - accuracy: 0.5069\n",
            "Epoch 2/5\n",
            "25/25 [==============================] - 3s 113ms/step - loss: 0.6836 - accuracy: 0.6125\n",
            "Epoch 3/5\n",
            "25/25 [==============================] - 3s 111ms/step - loss: 0.6734 - accuracy: 0.6856\n",
            "Epoch 4/5\n",
            "25/25 [==============================] - 2s 91ms/step - loss: 0.6612 - accuracy: 0.7400\n",
            "Epoch 5/5\n",
            "25/25 [==============================] - 4s 139ms/step - loss: 0.6472 - accuracy: 0.7881\n",
            "10/10 [==============================] - 0s 16ms/step\n",
            "Precision: 0.34\n",
            "Recall: 0.72\n",
            "F1 Score: 0.46\n",
            "Accuracy: 0.50\n",
            "\n",
            "F1-score is : 0.46\n",
            "\n",
            "10/10 [==============================] - 0s 17ms/step - loss: 0.6936 - accuracy: 0.4967\n",
            "\n",
            "Loss is: 0.69\n",
            "Accuracy is: 0.50\n",
            "\n",
            "Using Multinomial features:\n",
            "Epoch 1/5\n",
            "25/25 [==============================] - 1s 51ms/step - loss: 0.6268 - accuracy: 0.6931\n",
            "Epoch 2/5\n",
            "25/25 [==============================] - 1s 50ms/step - loss: 0.5992 - accuracy: 0.6975\n",
            "Epoch 3/5\n",
            "25/25 [==============================] - 1s 52ms/step - loss: 0.5625 - accuracy: 0.7406\n",
            "Epoch 4/5\n",
            "25/25 [==============================] - 1s 50ms/step - loss: 0.5487 - accuracy: 0.7425\n",
            "Epoch 5/5\n",
            "25/25 [==============================] - 1s 50ms/step - loss: 0.5367 - accuracy: 0.7544\n",
            "10/10 [==============================] - 0s 20ms/step\n",
            "Precision: 0.35\n",
            "Recall: 0.69\n",
            "F1 Score: 0.46\n",
            "Accuracy: 0.53\n",
            "\n",
            "F1-score is : 0.46\n",
            "\n",
            "10/10 [==============================] - 0s 16ms/step - loss: 0.6887 - accuracy: 0.5300\n",
            "\n",
            "Loss is: 0.69\n",
            "Accuracy is: 0.53\n",
            "\n"
          ]
        }
      ]
    },
    {
      "cell_type": "code",
      "execution_count": 10,
      "metadata": {
        "colab": {
          "base_uri": "https://localhost:8080/",
          "height": 1000
        },
        "id": "mZ57WcyRTGvX",
        "outputId": "cd4c69cb-ba81-455b-9274-e9b62af2729b"
      },
      "outputs": [
        {
          "output_type": "stream",
          "name": "stdout",
          "text": [
            "Epoch 1/5\n",
            "3/3 [==============================] - 1s 53ms/step - loss: 0.5670 - accuracy: 0.7750\n",
            "Epoch 2/5\n",
            "3/3 [==============================] - 0s 48ms/step - loss: 0.5519 - accuracy: 0.8500\n",
            "Epoch 3/5\n",
            "3/3 [==============================] - 0s 45ms/step - loss: 0.5388 - accuracy: 0.8750\n",
            "Epoch 4/5\n",
            "3/3 [==============================] - 0s 46ms/step - loss: 0.5291 - accuracy: 0.8875\n",
            "Epoch 5/5\n",
            "3/3 [==============================] - 0s 42ms/step - loss: 0.5185 - accuracy: 0.9187\n",
            "10/10 [==============================] - 0s 19ms/step\n",
            "Precision: 0.33\n",
            "Recall: 0.85\n",
            "\n",
            "F1-score is : 0.48\n",
            "\n",
            "10/10 [==============================] - 0s 22ms/step - loss: 0.6994 - accuracy: 0.4500\n",
            "\n",
            "Loss is: 0.70\n",
            "Accuracy is: 0.45\n",
            "\n",
            "Epoch 1/5\n",
            "5/5 [==============================] - 0s 55ms/step - loss: 0.5253 - accuracy: 0.8687\n",
            "Epoch 2/5\n",
            "5/5 [==============================] - 0s 58ms/step - loss: 0.5136 - accuracy: 0.8875\n",
            "Epoch 3/5\n",
            "5/5 [==============================] - 0s 57ms/step - loss: 0.5023 - accuracy: 0.8906\n",
            "Epoch 4/5\n",
            "5/5 [==============================] - 0s 54ms/step - loss: 0.4913 - accuracy: 0.8906\n",
            "Epoch 5/5\n",
            "5/5 [==============================] - 0s 48ms/step - loss: 0.4803 - accuracy: 0.9031\n",
            "10/10 [==============================] - 0s 15ms/step\n",
            "Precision: 0.32\n",
            "Recall: 0.87\n",
            "\n",
            "F1-score is : 0.47\n",
            "\n",
            "10/10 [==============================] - 0s 15ms/step - loss: 0.7019 - accuracy: 0.4267\n",
            "\n",
            "Loss is: 0.70\n",
            "Accuracy is: 0.43\n",
            "\n",
            "Epoch 1/5\n",
            "8/8 [==============================] - 0s 49ms/step - loss: 0.5065 - accuracy: 0.8708\n",
            "Epoch 2/5\n",
            "8/8 [==============================] - 0s 50ms/step - loss: 0.4922 - accuracy: 0.8771\n",
            "Epoch 3/5\n",
            "8/8 [==============================] - 0s 50ms/step - loss: 0.4789 - accuracy: 0.8771\n",
            "Epoch 4/5\n",
            "8/8 [==============================] - 0s 50ms/step - loss: 0.4659 - accuracy: 0.8854\n",
            "Epoch 5/5\n",
            "8/8 [==============================] - 0s 46ms/step - loss: 0.4524 - accuracy: 0.9000\n",
            "10/10 [==============================] - 0s 15ms/step\n",
            "Precision: 0.32\n",
            "Recall: 0.87\n",
            "\n",
            "F1-score is : 0.47\n",
            "\n",
            "10/10 [==============================] - 0s 16ms/step - loss: 0.7055 - accuracy: 0.4167\n",
            "\n",
            "Loss is: 0.71\n",
            "Accuracy is: 0.42\n",
            "\n",
            "Epoch 1/5\n",
            "10/10 [==============================] - 1s 86ms/step - loss: 0.4588 - accuracy: 0.8922\n",
            "Epoch 2/5\n",
            "10/10 [==============================] - 1s 94ms/step - loss: 0.4426 - accuracy: 0.9000\n",
            "Epoch 3/5\n",
            "10/10 [==============================] - 1s 94ms/step - loss: 0.4274 - accuracy: 0.9031\n",
            "Epoch 4/5\n",
            "10/10 [==============================] - 1s 58ms/step - loss: 0.4129 - accuracy: 0.9156\n",
            "Epoch 5/5\n",
            "10/10 [==============================] - 1s 50ms/step - loss: 0.3991 - accuracy: 0.9219\n",
            "10/10 [==============================] - 0s 18ms/step\n",
            "Precision: 0.33\n",
            "Recall: 0.82\n",
            "\n",
            "F1-score is : 0.47\n",
            "\n",
            "10/10 [==============================] - 0s 21ms/step - loss: 0.7027 - accuracy: 0.4467\n",
            "\n",
            "Loss is: 0.70\n",
            "Accuracy is: 0.45\n",
            "\n",
            "Epoch 1/5\n",
            "13/13 [==============================] - 1s 61ms/step - loss: 0.4121 - accuracy: 0.8825\n",
            "Epoch 2/5\n",
            "13/13 [==============================] - 1s 54ms/step - loss: 0.3962 - accuracy: 0.8938\n",
            "Epoch 3/5\n",
            "13/13 [==============================] - 1s 51ms/step - loss: 0.3815 - accuracy: 0.8988\n",
            "Epoch 4/5\n",
            "13/13 [==============================] - 1s 55ms/step - loss: 0.3675 - accuracy: 0.9125\n",
            "Epoch 5/5\n",
            "13/13 [==============================] - 1s 49ms/step - loss: 0.3527 - accuracy: 0.9150\n",
            "10/10 [==============================] - 0s 14ms/step\n",
            "Precision: 0.32\n",
            "Recall: 0.83\n",
            "\n",
            "F1-score is : 0.46\n",
            "\n",
            "10/10 [==============================] - 0s 20ms/step - loss: 0.7119 - accuracy: 0.4167\n",
            "\n",
            "Loss is: 0.71\n",
            "Accuracy is: 0.42\n",
            "\n",
            "Epoch 1/5\n",
            "15/15 [==============================] - 1s 85ms/step - loss: 0.3676 - accuracy: 0.8885\n",
            "Epoch 2/5\n",
            "15/15 [==============================] - 1s 91ms/step - loss: 0.3511 - accuracy: 0.8990\n",
            "Epoch 3/5\n",
            "15/15 [==============================] - 1s 71ms/step - loss: 0.3362 - accuracy: 0.9115\n",
            "Epoch 4/5\n",
            "15/15 [==============================] - 1s 52ms/step - loss: 0.3230 - accuracy: 0.9219\n",
            "Epoch 5/5\n",
            "15/15 [==============================] - 1s 51ms/step - loss: 0.3092 - accuracy: 0.9260\n",
            "10/10 [==============================] - 0s 17ms/step\n",
            "Precision: 0.34\n",
            "Recall: 0.83\n",
            "\n",
            "F1-score is : 0.48\n",
            "\n",
            "10/10 [==============================] - 0s 18ms/step - loss: 0.7097 - accuracy: 0.4667\n",
            "\n",
            "Loss is: 0.71\n",
            "Accuracy is: 0.47\n",
            "\n",
            "Epoch 1/5\n",
            "18/18 [==============================] - 1s 58ms/step - loss: 0.3038 - accuracy: 0.9259\n",
            "Epoch 2/5\n",
            "18/18 [==============================] - 1s 56ms/step - loss: 0.2892 - accuracy: 0.9304\n",
            "Epoch 3/5\n",
            "18/18 [==============================] - 1s 54ms/step - loss: 0.2764 - accuracy: 0.9393\n",
            "Epoch 4/5\n",
            "18/18 [==============================] - 1s 49ms/step - loss: 0.2621 - accuracy: 0.9446\n",
            "Epoch 5/5\n",
            "18/18 [==============================] - 1s 50ms/step - loss: 0.2500 - accuracy: 0.9509\n",
            "10/10 [==============================] - 0s 15ms/step\n",
            "Precision: 0.34\n",
            "Recall: 0.83\n",
            "\n",
            "F1-score is : 0.49\n",
            "\n",
            "10/10 [==============================] - 0s 16ms/step - loss: 0.7122 - accuracy: 0.4800\n",
            "\n",
            "Loss is: 0.71\n",
            "Accuracy is: 0.48\n",
            "\n",
            "Epoch 1/5\n",
            "20/20 [==============================] - 1s 50ms/step - loss: 0.2455 - accuracy: 0.9453\n",
            "Epoch 2/5\n",
            "20/20 [==============================] - 2s 83ms/step - loss: 0.2327 - accuracy: 0.9555\n",
            "Epoch 3/5\n",
            "20/20 [==============================] - 2s 85ms/step - loss: 0.2211 - accuracy: 0.9539\n",
            "Epoch 4/5\n",
            "20/20 [==============================] - 1s 52ms/step - loss: 0.2110 - accuracy: 0.9625\n",
            "Epoch 5/5\n",
            "20/20 [==============================] - 1s 51ms/step - loss: 0.1992 - accuracy: 0.9664\n",
            "10/10 [==============================] - 0s 16ms/step\n",
            "Precision: 0.34\n",
            "Recall: 0.87\n",
            "\n",
            "F1-score is : 0.49\n",
            "\n",
            "10/10 [==============================] - 0s 15ms/step - loss: 0.7324 - accuracy: 0.4567\n",
            "\n",
            "Loss is: 0.73\n",
            "Accuracy is: 0.46\n",
            "\n",
            "Epoch 1/5\n",
            "23/23 [==============================] - 1s 49ms/step - loss: 0.2036 - accuracy: 0.9590\n",
            "Epoch 2/5\n",
            "23/23 [==============================] - 1s 49ms/step - loss: 0.1934 - accuracy: 0.9632\n",
            "Epoch 3/5\n",
            "23/23 [==============================] - 2s 68ms/step - loss: 0.1837 - accuracy: 0.9660\n",
            "Epoch 4/5\n",
            "23/23 [==============================] - 2s 83ms/step - loss: 0.1744 - accuracy: 0.9701\n",
            "Epoch 5/5\n",
            "23/23 [==============================] - 1s 54ms/step - loss: 0.1664 - accuracy: 0.9694\n",
            "10/10 [==============================] - 0s 15ms/step\n",
            "Precision: 0.34\n",
            "Recall: 0.87\n",
            "\n",
            "F1-score is : 0.49\n",
            "\n",
            "10/10 [==============================] - 0s 16ms/step - loss: 0.7432 - accuracy: 0.4600\n",
            "\n",
            "Loss is: 0.74\n",
            "Accuracy is: 0.46\n",
            "\n",
            "Epoch 1/5\n",
            "25/25 [==============================] - 1s 55ms/step - loss: 0.1598 - accuracy: 0.9706\n",
            "Epoch 2/5\n",
            "25/25 [==============================] - 1s 49ms/step - loss: 0.1516 - accuracy: 0.9719\n",
            "Epoch 3/5\n",
            "25/25 [==============================] - 1s 51ms/step - loss: 0.1441 - accuracy: 0.9769\n",
            "Epoch 4/5\n",
            "25/25 [==============================] - 2s 72ms/step - loss: 0.1365 - accuracy: 0.9787\n",
            "Epoch 5/5\n",
            "25/25 [==============================] - 2s 81ms/step - loss: 0.1300 - accuracy: 0.9819\n",
            "10/10 [==============================] - 0s 17ms/step\n",
            "Precision: 0.34\n",
            "Recall: 0.87\n",
            "\n",
            "F1-score is : 0.49\n",
            "\n",
            "10/10 [==============================] - 0s 16ms/step - loss: 0.7581 - accuracy: 0.4567\n",
            "\n",
            "Loss is: 0.76\n",
            "Accuracy is: 0.46\n",
            "\n"
          ]
        },
        {
          "output_type": "display_data",
          "data": {
            "text/plain": [
              "<Figure size 640x480 with 1 Axes>"
            ],
            "image/png": "[encoded data removed]"
          },
          "metadata": {}
        },
        {
          "output_type": "display_data",
          "data": {
            "text/plain": [
              "<Figure size 640x480 with 0 Axes>"
            ]
          },
          "metadata": {}
        }
      ],
      "source": [
        "# create the same graph as with NB and LR, with your neural network model instead!\n",
        "# make sure to re-create your model each time you train it — you don't want to start with\n",
        "# an already trained network!\n",
        "def generate_graphs(train_data, dev_data):\n",
        "    prfa_values = [[],[],[],[]]\n",
        "    training_len = []\n",
        "    for i in np.arange(0.1, 1.1, 0.1):\n",
        "        training_len.append(i*100)\n",
        "        pred_metric = train_on_data(i, train_data, dev_data, False)\n",
        "        for i in range(len(pred_metric)):\n",
        "            prfa_values[i].append(pred_metric[i])\n",
        "    return training_len, prfa_values\n",
        "\n",
        "x_axis, y_axis = generate_graphs([train_bin_bow_sk, Y_train],[dev_bin_bow_sk,Y_dev])\n",
        "\n",
        "\n",
        "sutils.create_training_graph(x_axis, y_axis, 'Neural Network Classifier', 'NNgraph4.png')\n",
        "# For a model with one hidden layer of 50 units:\n",
        "# Takes < 15 sec to run on Felix's computer w/ 3 epochs\n",
        "# Takes < 30 sec to run on Felix's computer w/ 10 epochs\n",
        "# Takes < 50 sec to run on Felix's computer w/ 20 epochs\n",
        "# you need not train your model more than 20 epochs\n",
        "# you should experiment with different numbers of epochs to see how performance varies\n",
        "# you need not create an experiment that takes > 10 min to run (please do not do this)\n",
        "\n"
      ]
    },
    {
      "cell_type": "markdown",
      "metadata": {
        "id": "PHW9HdaBTGvX"
      },
      "source": [
        "Report the f1 scores for your model with the following settings, using the same number of epochs to train in both cases:\n",
        "- number of epochs used: 5\n",
        "- multinomial features: 0.46\n",
        "- binarized features: 0.46"
      ]
    },
    {
      "cell_type": "code",
      "source": [],
      "metadata": {
        "id": "TH2S9R4vlrJB"
      },
      "execution_count": null,
      "outputs": []
    }
  ],
  "metadata": {
    "kernelspec": {
      "display_name": "Python 3 (ipykernel)",
      "language": "python",
      "name": "python3"
    },
    "language_info": {
      "codemirror_mode": {
        "name": "ipython",
        "version": 3
      },
      "file_extension": ".py",
      "mimetype": "text/x-python",
      "name": "python",
      "nbconvert_exporter": "python",
      "pygments_lexer": "ipython3",
      "version": "3.9.13"
    },
    "colab": {
      "provenance": []
    }
  },
  "nbformat": 4,
  "nbformat_minor": 0
}